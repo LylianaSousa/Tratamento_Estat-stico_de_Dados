{
 "cells": [
  {
   "cell_type": "markdown",
   "metadata": {},
   "source": [
    "## Comandos úteis para Tratamento Estatístico de Dados\n",
    "\n",
    "Utilizaremos como base os conteúdos do livro Tratamento Estatístico de Dados em Física Experimental de Otaviano A. M. Helene e Vito R. Vanin."
   ]
  },
  {
   "cell_type": "code",
   "execution_count": 25,
   "metadata": {},
   "outputs": [
    {
     "data": {
      "text/plain": [
       "array([0., 0., 0., 0., 0., 0., 0., 0., 0., 0., 0., 0., 0., 0., 0., 0., 0.,\n",
       "       0., 0., 0., 0., 0., 0., 0., 0., 0., 0., 0., 0., 0., 0., 0., 0., 0.,\n",
       "       0., 0., 0., 0., 0., 0., 0., 0., 0., 0., 0., 0., 0., 0., 0., 0.])"
      ]
     },
     "execution_count": 25,
     "metadata": {},
     "output_type": "execute_result"
    }
   ],
   "source": [
    "import numpy as np\n",
    "\n",
    "#Para criar um conjunto fixo de dados aleatórios\n",
    "np.random.seed(11223740)\n",
    "\n",
    "#Criar um array de tamanho X com todos os elementos sendo nulos\n",
    "x = 50\n",
    "listanula = np.zeros(x)\n",
    "listanula"
   ]
  },
  {
   "cell_type": "code",
   "execution_count": 26,
   "metadata": {},
   "outputs": [
    {
     "data": {
      "text/plain": [
       "array([ 0.78952871,  0.34399294, -0.4544602 ,  0.98048206,  0.57517976,\n",
       "       -0.06469279, -1.01941202,  1.3845183 , -0.73069186,  1.74679791,\n",
       "        0.29942817,  0.13056044, -0.29587658,  0.06179958, -0.92654907,\n",
       "       -0.52827463,  1.4662273 , -1.40087795,  0.6551395 , -0.24960276,\n",
       "        0.75276631,  0.56026993, -0.591517  , -0.2698778 , -0.16641516,\n",
       "        0.50075298,  1.77714192,  0.08685212, -1.36228066,  0.86694896,\n",
       "        0.85488745,  0.90519081, -1.24056067,  1.13837882,  1.53058954,\n",
       "       -1.01734634,  0.31052307, -0.45306725, -0.07294271,  0.35591029,\n",
       "       -0.22605595, -1.38676668, -0.33357337,  0.72716925,  2.02738612,\n",
       "       -0.55165644,  1.43559575, -0.65617914,  1.15789318, -1.92322986])"
      ]
     },
     "execution_count": 26,
     "metadata": {},
     "output_type": "execute_result"
    }
   ],
   "source": [
    "#Criar um array de tamanho X com todos os elementos sendo aleatórios\n",
    "# a partir de uma distribuição gaussiana de valor verdadeiro 0 e \n",
    "# desvio padrão 1\n",
    "listaaleatoriagau = np.random.randn(x)\n",
    "listaaleatoriagau"
   ]
  },
  {
   "cell_type": "code",
   "execution_count": 27,
   "metadata": {},
   "outputs": [
    {
     "data": {
      "text/plain": [
       "0.15000008581088253"
      ]
     },
     "execution_count": 27,
     "metadata": {},
     "output_type": "execute_result"
    }
   ],
   "source": [
    "#Para obter uma média de um conjunto de dados\n",
    "media = np.mean(listaaleatoriagau)\n",
    "media"
   ]
  },
  {
   "cell_type": "code",
   "execution_count": 28,
   "metadata": {},
   "outputs": [
    {
     "data": {
      "text/plain": [
       "0.9444968373713757"
      ]
     },
     "execution_count": 28,
     "metadata": {},
     "output_type": "execute_result"
    }
   ],
   "source": [
    "#Pra obter o desvio padrão dessa média \n",
    "desviopadrao = np.std(listaaleatoriagau, ddof = 1)\n",
    "desviopadrao"
   ]
  },
  {
   "cell_type": "code",
   "execution_count": 29,
   "metadata": {},
   "outputs": [
    {
     "data": {
      "text/plain": [
       "array([0.24998937, 0.27769127, 0.36344692, 0.28218498, 0.63883384,\n",
       "       0.02630529, 0.61349435, 0.1512179 , 0.1149184 , 0.89416262,\n",
       "       0.59791671, 0.57781359, 0.05880799, 0.97499807, 0.73171274,\n",
       "       0.67777307, 0.18465972, 0.47113221, 0.53366928, 0.57294328,\n",
       "       0.73425144, 0.75490039, 0.25559219, 0.65332266, 0.5474667 ,\n",
       "       0.86587892, 0.87802307, 0.64312767, 0.072269  , 0.14487191,\n",
       "       0.11684614, 0.60934519, 0.55005361, 0.39361206, 0.33200699,\n",
       "       0.62142639, 0.2198598 , 0.83300539, 0.79511545, 0.14213651,\n",
       "       0.54716815, 0.95837143, 0.26328622, 0.09223958, 0.4175737 ,\n",
       "       0.41398735, 0.97905033, 0.80177872, 0.27027433, 0.89763281])"
      ]
     },
     "execution_count": 29,
     "metadata": {},
     "output_type": "execute_result"
    }
   ],
   "source": [
    "#Criar um array de tamanho X com todos os elementos sendo aleatórios\n",
    "# a partir de uma distribuição uniforme entre 0 e 1.\n",
    "listaaleatoria0a1 = np.random.rand(x)\n",
    "listaaleatoria0a1"
   ]
  },
  {
   "cell_type": "code",
   "execution_count": 30,
   "metadata": {},
   "outputs": [
    {
     "data": {
      "text/plain": [
       "0.4959629143543179"
      ]
     },
     "execution_count": 30,
     "metadata": {},
     "output_type": "execute_result"
    }
   ],
   "source": [
    "#Para obter uma média de um conjunto de dados\n",
    "media = np.mean(listaaleatoria0a1)\n",
    "media"
   ]
  },
  {
   "cell_type": "code",
   "execution_count": 31,
   "metadata": {},
   "outputs": [
    {
     "data": {
      "text/plain": [
       "0.2820841930683117"
      ]
     },
     "execution_count": 31,
     "metadata": {},
     "output_type": "execute_result"
    }
   ],
   "source": [
    "#Pra obter o desvio padrão dessa média \n",
    "desviopadrao = np.std(listaaleatoria0a1, ddof = 1)\n",
    "desviopadrao"
   ]
  },
  {
   "cell_type": "code",
   "execution_count": 32,
   "metadata": {},
   "outputs": [],
   "source": [
    "import scipy.stats as st\n",
    "import matplotlib.pyplot as plt"
   ]
  },
  {
   "cell_type": "code",
   "execution_count": 34,
   "metadata": {},
   "outputs": [
    {
     "data": {
      "text/plain": [
       "(array([6., 4., 7., 3., 3., 7., 7., 3., 5., 5.]),\n",
       " array([0.02630529, 0.1215798 , 0.2168543 , 0.31212881, 0.40740331,\n",
       "        0.50267781, 0.59795232, 0.69322682, 0.78850133, 0.88377583,\n",
       "        0.97905033]),\n",
       " <BarContainer object of 10 artists>)"
      ]
     },
     "execution_count": 34,
     "metadata": {},
     "output_type": "execute_result"
    },
    {
     "data": {
      "image/png": "[encoded data removed]",
      "text/plain": [
       "<Figure size 432x288 with 1 Axes>"
      ]
     },
     "metadata": {
      "needs_background": "light"
     },
     "output_type": "display_data"
    }
   ],
   "source": [
    "#Montando um histograma com um conjunto de dados\n",
    "plt.hist(listaaleatoria0a1,10)"
   ]
  },
  {
   "cell_type": "code",
   "execution_count": 35,
   "metadata": {},
   "outputs": [
    {
     "data": {
      "text/plain": [
       "(array([1., 4., 3., 7., 8., 7., 7., 6., 4., 3.]),\n",
       " array([-1.92322986, -1.52816826, -1.13310667, -0.73804507, -0.34298347,\n",
       "         0.05207813,  0.44713973,  0.84220133,  1.23726293,  1.63232453,\n",
       "         2.02738612]),\n",
       " <BarContainer object of 10 artists>)"
      ]
     },
     "execution_count": 35,
     "metadata": {},
     "output_type": "execute_result"
    },
    {
     "data": {
      "image/png": "[encoded data removed]",
      "text/plain": [
       "<Figure size 432x288 with 1 Axes>"
      ]
     },
     "metadata": {
      "needs_background": "light"
     },
     "output_type": "display_data"
    }
   ],
   "source": [
    "plt.hist(listaaleatoriagau, 10)"
   ]
  },
  {
   "cell_type": "code",
   "execution_count": 39,
   "metadata": {},
   "outputs": [
    {
     "name": "stdout",
     "output_type": "stream",
     "text": [
      "Assimetria = -0.03\n",
      "Curtose excedente  = -0.71\n"
     ]
    },
    {
     "data": {
      "image/png": "[encoded data removed]",
      "text/plain": [
       "<Figure size 432x288 with 1 Axes>"
      ]
     },
     "metadata": {
      "needs_background": "light"
     },
     "output_type": "display_data"
    }
   ],
   "source": [
    "#Para extrair informações como assimetria, curtose excedente\n",
    "S = np.mean(listaaleatoriagau)\n",
    "sS0 = np.std(listaaleatoriagau)\n",
    "Snorm = listaaleatoriagau/sS0\n",
    "plt.hist(Snorm,7)\n",
    "print( f'Assimetria = {st.skew(Snorm):.2f}')\n",
    "print( f'Curtose excedente  = {st.kurtosis(Snorm):.2f}')"
   ]
  },
  {
   "cell_type": "code",
   "execution_count": 42,
   "metadata": {},
   "outputs": [
    {
     "name": "stdout",
     "output_type": "stream",
     "text": [
      "\n",
      " Item a\n",
      "\n",
      "atil = ( 1.06 # 0.21 ) cm\n",
      "btil = ( 0.920 # 0.063 ) cm/s\n",
      "Matrix cov =  [[ 0.044 -0.012]\n",
      " [-0.012  0.004]]\n"
     ]
    },
    {
     "data": {
      "image/png": "[encoded data removed]",
      "text/plain": [
       "<Figure size 432x288 with 1 Axes>"
      ]
     },
     "metadata": {
      "needs_background": "light"
     },
     "output_type": "display_data"
    },
    {
     "name": "stdout",
     "output_type": "stream",
     "text": [
      "\n",
      " Item b\n",
      "\n",
      "cov = -0.0120 \n",
      "rho = -0.905 \n",
      "\n",
      " Item c\n",
      "\n",
      "chi^2 = 7.6 \n",
      "NGL =  3\n"
     ]
    }
   ],
   "source": [
    "#Método dos Minimos quadrados\n",
    "nU = 11223740\n",
    "np.random.seed(nU)\n",
    "\n",
    "def meuMMQ( Y, G, si ):\n",
    "      \"\"\"\"\n",
    "        Y é o vetor de dados\n",
    "        G é uma matriz com [g1, g2, ...]\n",
    "        si é um número ou o vetor de incertezas\n",
    "      \"\"\"\n",
    "      if ( np.size(Y)!=np.shape(G)[0] ):\n",
    "            print( 'ajuste não pode ser realizado: número de linhas da matriz G deve ser igual ao número de dados')\n",
    "            return\n",
    "        \n",
    "      if np.size(si)==1:\n",
    "          si = si*np.ones_like(Y)\n",
    "          \n",
    "      N = np.size(Y)\n",
    "      P = np.shape(G)[1]\n",
    "      D = np.zeros([P,1])\n",
    "      M = np.zeros([P,P])\n",
    "      \n",
    "      for i in range(N):\n",
    "            for linha in range(P):\n",
    "                  D[linha] += Y[i]*G[i,linha]/(si[i]**2)\n",
    "                  for coluna in range(P):\n",
    "                      M[linha,coluna] += G[i,linha]*G[i,coluna]/(si[i]**2)\n",
    "                  \n",
    "      VA = np.linalg.inv(M)\n",
    "      A = np.dot( VA, D )\n",
    "      sA = np.sqrt( np.diag(VA) )\n",
    "      sA = sA.reshape(A.shape)\n",
    "      F = np.zeros([N,1])\n",
    "      \n",
    "      for i in range(N):\n",
    "            for j in range(P):\n",
    "                F[i] += A[j]*G[i,j]\n",
    "                \n",
    "      return A, sA, VA, F\n",
    "\n",
    "\n",
    "#Dados artificiais para ajuste\n",
    "t = [1, 2, 3, 4, 5]\n",
    "g1 = np.ones(len(t))\n",
    "g2 = np.array(t)\n",
    "G = np.array([g1,g2]).T\n",
    "Y = np.array([1.7, 3.0, 4.2, 4.8, 5.4])\n",
    "si = 0.2\n",
    "A, sA, VA, F = meuMMQ( Y, G, si )\n",
    "\n",
    "print(\"\\n Item a\\n\")\n",
    "\n",
    "print( 'atil = ( %.2f # %.2f ) cm' % (A[0], sA[0]) )\n",
    "print( 'btil = ( %.3f # %.3f ) cm/s' % (A[1], sA[1]) )\n",
    "print( 'Matrix cov = ',  VA )\n",
    "plt.figure\n",
    "plt.title('Ajuste MMQ')\n",
    "plt.errorbar( t, Y, si, fmt='*')\n",
    "plt.plot( t, F, '-r' )\n",
    "plt.show()\n",
    "print(\"\\n Item b\\n\")\n",
    "\n",
    "print( 'cov = %.4f ' % (VA[0,1]) )\n",
    "print( 'rho = %.3f ' % (VA[0,1]/(sA[0]*sA[1])) )\n",
    "\n",
    "print(\"\\n Item c\\n\")\n",
    "\n",
    "ccont = 0\n",
    "for i in range(len(t)):\n",
    "    ccont += ((Y[i] - (A[0] + (A[1]*t[i])))/(si))**2\n",
    "print( 'chi^2 = %.1f ' % (ccont) )\n",
    "\n",
    "#O número de graus de liberdade é dado por:\n",
    "#NGL = #dados - #parâmetros estimados \n",
    "NGL = len(t) - 2\n",
    "print('NGL = ', NGL)\n",
    "\n",
    "def fajuste(t):\n",
    "    valor = A[0] + (A[1]*t)\n",
    "    incerteza = np.sqrt((sA[0])**2 + (sA[1]*t)**2)\n",
    "    return valor, incerteza\n"
   ]
  }
 ],
 "metadata": {
  "interpreter": {
   "hash": "38740d3277777e2cd7c6c2cc9d8addf5118fdf3f82b1b39231fd12aeac8aee8b"
  },
  "kernelspec": {
   "display_name": "Python 3.10.1 64-bit",
   "language": "python",
   "name": "python3"
  },
  "language_info": {
   "codemirror_mode": {
    "name": "ipython",
    "version": 3
   },
   "file_extension": ".py",
   "mimetype": "text/x-python",
   "name": "python",
   "nbconvert_exporter": "python",
   "pygments_lexer": "ipython3",
   "version": "3.10.1"
  },
  "orig_nbformat": 4
 },
 "nbformat": 4,
 "nbformat_minor": 2
}
